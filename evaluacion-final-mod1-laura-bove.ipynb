{
 "cells": [
  {
   "cell_type": "markdown",
   "id": "9ff0f4a0",
   "metadata": {},
   "source": [
    "# Evaluación Módulo 1 Data Analytics"
   ]
  },
  {
   "cell_type": "markdown",
   "id": "0068bc0e",
   "metadata": {},
   "source": [
    "# 1. Estructuras"
   ]
  },
  {
   "cell_type": "code",
   "execution_count": 1,
   "id": "a5afe4f9",
   "metadata": {},
   "outputs": [],
   "source": [
    "inventario = []\n",
    "\n",
    "clientes = {}\n",
    "\n",
    "ventas_totales = 0,0"
   ]
  },
  {
   "cell_type": "markdown",
   "id": "8e7da77e",
   "metadata": {},
   "source": [
    "# 2. Funciones"
   ]
  },
  {
   "cell_type": "markdown",
   "id": "c1766f84",
   "metadata": {},
   "source": [
    "## Agregar_Producto"
   ]
  },
  {
   "cell_type": "code",
   "execution_count": 2,
   "id": "dfbbe9b8",
   "metadata": {},
   "outputs": [],
   "source": [
    "#Crear función de agregar_producto (nombre, precio, cantidad)\n",
    "\n",
    "def agregar_producto(nombre, precio, cantidad):\n",
    "    for producto in inventario:\n",
    "        if producto[\"nombre\"] == nombre:\n",
    "            producto[\"cantidad\"] += cantidad\n",
    "            return f\"Stock de {nombre} actualizado\"\n",
    "\n",
    "    nuevo_producto = {\n",
    "        \"nombre\" : nombre, \n",
    "        \"precio\" : precio,\n",
    "        \"cantidad\" : cantidad,\n",
    "    }\n",
    "    inventario.append(nuevo_producto)\n",
    "    return f\"Producto {nombre} añadido\"\n",
    "\n"
   ]
  },
  {
   "cell_type": "code",
   "execution_count": 3,
   "id": "665376d0",
   "metadata": {},
   "outputs": [
    {
     "data": {
      "text/plain": [
       "'Producto camisa añadido'"
      ]
     },
     "execution_count": 3,
     "metadata": {},
     "output_type": "execute_result"
    }
   ],
   "source": [
    "#usamos la función para añadir un producto\n",
    "\n",
    "agregar_producto (\"camisa\", 20, 40)   #Creo un primer producto"
   ]
  },
  {
   "cell_type": "code",
   "execution_count": 4,
   "id": "38b11197",
   "metadata": {},
   "outputs": [
    {
     "data": {
      "text/plain": [
       "'Producto pantalon añadido'"
      ]
     },
     "execution_count": 4,
     "metadata": {},
     "output_type": "execute_result"
    }
   ],
   "source": [
    "#añado otros productos\n",
    "\n",
    "agregar_producto (\"pantalon\", 30, 30)\n",
    "\n"
   ]
  },
  {
   "cell_type": "code",
   "execution_count": 5,
   "id": "da712646",
   "metadata": {},
   "outputs": [
    {
     "data": {
      "text/plain": [
       "'Producto zapatos añadido'"
      ]
     },
     "execution_count": 5,
     "metadata": {},
     "output_type": "execute_result"
    }
   ],
   "source": [
    "agregar_producto (\"zapatos\", 50, 40)"
   ]
  },
  {
   "cell_type": "code",
   "execution_count": 6,
   "id": "cae14323",
   "metadata": {},
   "outputs": [
    {
     "data": {
      "text/plain": [
       "'Producto chaqueta añadido'"
      ]
     },
     "execution_count": 6,
     "metadata": {},
     "output_type": "execute_result"
    }
   ],
   "source": [
    "agregar_producto (\"chaqueta\", 70, 15)"
   ]
  },
  {
   "cell_type": "code",
   "execution_count": 7,
   "id": "52ef0d18",
   "metadata": {},
   "outputs": [
    {
     "data": {
      "text/plain": [
       "'Stock de camisa actualizado'"
      ]
     },
     "execution_count": 7,
     "metadata": {},
     "output_type": "execute_result"
    }
   ],
   "source": [
    "#añado de nuevo un producto que ya existe para comprobar que funciona correctamente el codigo\n",
    "agregar_producto (\"camisa\", 20, 40)  "
   ]
  },
  {
   "cell_type": "code",
   "execution_count": 8,
   "id": "b2322926",
   "metadata": {},
   "outputs": [
    {
     "data": {
      "text/plain": [
       "[{'nombre': 'camisa', 'precio': 20, 'cantidad': 80},\n",
       " {'nombre': 'pantalon', 'precio': 30, 'cantidad': 30},\n",
       " {'nombre': 'zapatos', 'precio': 50, 'cantidad': 40},\n",
       " {'nombre': 'chaqueta', 'precio': 70, 'cantidad': 15}]"
      ]
     },
     "execution_count": 8,
     "metadata": {},
     "output_type": "execute_result"
    }
   ],
   "source": [
    "#llamo a inventario para ver que lo que he hecho hasta ahora se ha procesado correctamente (Reviso que la cantidad del producto repetido sea la suma de los dos)\n",
    "\n",
    "inventario"
   ]
  },
  {
   "cell_type": "markdown",
   "id": "a0016748",
   "metadata": {},
   "source": [
    "## Ver inventario"
   ]
  },
  {
   "cell_type": "code",
   "execution_count": 9,
   "id": "2c5ec9ae",
   "metadata": {},
   "outputs": [
    {
     "name": "stdout",
     "output_type": "stream",
     "text": [
      "Nombre: camisa, Precio: $20, Cantidad: 80\n",
      "Nombre: pantalon, Precio: $30, Cantidad: 30\n",
      "Nombre: zapatos, Precio: $50, Cantidad: 40\n",
      "Nombre: chaqueta, Precio: $70, Cantidad: 15\n"
     ]
    }
   ],
   "source": [
    "# Crear función para mostrar el inventario de productos con sus detalles\n",
    "\n",
    "def ver_inventario(inventario):\n",
    "    for producto in inventario:\n",
    "        print(f\"Nombre: {producto['nombre']}, Precio: ${producto['precio']}, Cantidad: {producto['cantidad']}\")\n",
    "\n",
    "\n",
    "\n",
    "ver_inventario(inventario)\n",
    "\n"
   ]
  },
  {
   "cell_type": "markdown",
   "id": "4858c283",
   "metadata": {},
   "source": [
    "# 3. buscar_producto(nombre)"
   ]
  },
  {
   "cell_type": "code",
   "execution_count": 10,
   "id": "0eeaff1e",
   "metadata": {},
   "outputs": [],
   "source": [
    "# Busca un producto en el inventario por nombre y muestra sus detalles si se encuentra. Debe recibir el nombre del producto como parámetro.\n",
    "\n",
    "\n",
    "def buscar_producto(nombre):\n",
    "    for producto in inventario:\n",
    "        if producto [\"nombre\"] == nombre:\n",
    "            return f\"Nombre: {producto['nombre']}, Precio: ${producto['precio']}, Cantidad: {producto['cantidad']}\"\n",
    "    \n",
    "    return (\"Producto no encontrado\")  #añado esto para que cuando no encuentre el producto con el nombre que estoy buscando me retorne este mensaje\n",
    "\n"
   ]
  },
  {
   "cell_type": "code",
   "execution_count": 11,
   "id": "e14a3560",
   "metadata": {},
   "outputs": [
    {
     "data": {
      "text/plain": [
       "'Nombre: camisa, Precio: $20, Cantidad: 80'"
      ]
     },
     "execution_count": 11,
     "metadata": {},
     "output_type": "execute_result"
    }
   ],
   "source": [
    "#Ejecuto varias veces la función para comprobar que devuelve lo que espero\n",
    "\n",
    "buscar_producto(\"camisa\")  "
   ]
  },
  {
   "cell_type": "code",
   "execution_count": 12,
   "id": "d2e0c1d0",
   "metadata": {},
   "outputs": [
    {
     "data": {
      "text/plain": [
       "'Nombre: zapatos, Precio: $50, Cantidad: 40'"
      ]
     },
     "execution_count": 12,
     "metadata": {},
     "output_type": "execute_result"
    }
   ],
   "source": [
    "buscar_producto(\"zapatos\")"
   ]
  },
  {
   "cell_type": "code",
   "execution_count": 13,
   "id": "32eb1e46",
   "metadata": {},
   "outputs": [
    {
     "data": {
      "text/plain": [
       "'Producto no encontrado'"
      ]
     },
     "execution_count": 13,
     "metadata": {},
     "output_type": "execute_result"
    }
   ],
   "source": [
    "buscar_producto(\"zueco\")"
   ]
  },
  {
   "cell_type": "markdown",
   "id": "8e11b0c9",
   "metadata": {},
   "source": [
    "# 4. actualizar_stock(nombre, cantidad)"
   ]
  },
  {
   "cell_type": "code",
   "execution_count": 14,
   "id": "818e4344",
   "metadata": {},
   "outputs": [
    {
     "name": "stdout",
     "output_type": "stream",
     "text": [
      "Nombre: camisa, Precio: $20, Cantidad: 80\n",
      "Nombre: pantalon, Precio: $30, Cantidad: 30\n",
      "Nombre: zapatos, Precio: $50, Cantidad: 40\n",
      "Nombre: chaqueta, Precio: $70, Cantidad: 15\n"
     ]
    }
   ],
   "source": [
    "#Revisamos el inventario actual antes del ejercicio para verificar que se produciran los cambios esperados\n",
    "ver_inventario(inventario)"
   ]
  },
  {
   "cell_type": "code",
   "execution_count": 15,
   "id": "349c9343",
   "metadata": {},
   "outputs": [],
   "source": [
    "#Actualiza el stock de un producto en el inventario. Debe recibir el nombre del producto y la cantidad a agregar o quitar como parámetros.\n",
    "\n",
    "def actualizar_stock(nombre, cantidad):\n",
    "    for producto in inventario:\n",
    "        if producto [\"nombre\"] == nombre:\n",
    "            if producto[\"cantidad\"] + cantidad < 0:\n",
    "                return f\"Error. Stock de {producto['nombre']} insuficiente.\"\n",
    "            \n",
    "            producto[\"cantidad\"] += cantidad \n",
    "            return f\"Cantidad de {producto['nombre']} actualizada. Nuevo stock: {producto['cantidad']}\"\n",
    "               \n",
    "                    \n",
    "    return \"Producto no encontrado en inventario\""
   ]
  },
  {
   "cell_type": "code",
   "execution_count": 16,
   "id": "94347d30",
   "metadata": {},
   "outputs": [
    {
     "data": {
      "text/plain": [
       "'Cantidad de camisa actualizada. Nuevo stock: 100'"
      ]
     },
     "execution_count": 16,
     "metadata": {},
     "output_type": "execute_result"
    }
   ],
   "source": [
    "#ejecutamos la función\n",
    "\n",
    "actualizar_stock(\"camisa\", 20)\n"
   ]
  },
  {
   "cell_type": "code",
   "execution_count": 17,
   "id": "95493996",
   "metadata": {},
   "outputs": [
    {
     "data": {
      "text/plain": [
       "'Cantidad de chaqueta actualizada. Nuevo stock: 20'"
      ]
     },
     "execution_count": 17,
     "metadata": {},
     "output_type": "execute_result"
    }
   ],
   "source": [
    "actualizar_stock(\"chaqueta\", 5)"
   ]
  },
  {
   "cell_type": "code",
   "execution_count": 18,
   "id": "d1bfe1db",
   "metadata": {},
   "outputs": [
    {
     "data": {
      "text/plain": [
       "'Producto no encontrado en inventario'"
      ]
     },
     "execution_count": 18,
     "metadata": {},
     "output_type": "execute_result"
    }
   ],
   "source": [
    "actualizar_stock(\"blusa\", 2) #ejemplo de producto que NO esta en stock"
   ]
  },
  {
   "cell_type": "code",
   "execution_count": 19,
   "id": "472f58ea",
   "metadata": {},
   "outputs": [
    {
     "data": {
      "text/plain": [
       "'Cantidad de zapatos actualizada. Nuevo stock: 15'"
      ]
     },
     "execution_count": 19,
     "metadata": {},
     "output_type": "execute_result"
    }
   ],
   "source": [
    "actualizar_stock(\"zapatos\", -25) #ejemplo de producto al que retiramos stock"
   ]
  },
  {
   "cell_type": "code",
   "execution_count": 20,
   "id": "958aa788",
   "metadata": {},
   "outputs": [
    {
     "data": {
      "text/plain": [
       "'Error. Stock de pantalon insuficiente.'"
      ]
     },
     "execution_count": 20,
     "metadata": {},
     "output_type": "execute_result"
    }
   ],
   "source": [
    "actualizar_stock(\"pantalon\", -31)  #retiramos más stock del que hay disponible para que nos devuelva error"
   ]
  },
  {
   "cell_type": "code",
   "execution_count": 21,
   "id": "debadbeb",
   "metadata": {},
   "outputs": [
    {
     "name": "stdout",
     "output_type": "stream",
     "text": [
      "Nombre: camisa, Precio: $20, Cantidad: 100\n",
      "Nombre: pantalon, Precio: $30, Cantidad: 30\n",
      "Nombre: zapatos, Precio: $50, Cantidad: 15\n",
      "Nombre: chaqueta, Precio: $70, Cantidad: 20\n"
     ]
    }
   ],
   "source": [
    "#verificamos que haya modificado el inventario\n",
    "\n",
    "ver_inventario(inventario)"
   ]
  },
  {
   "cell_type": "code",
   "execution_count": 22,
   "id": "fb2581fb",
   "metadata": {},
   "outputs": [],
   "source": [
    "#NOTA.-> Los productos que no estan en stock no se añaden al inventario (no tenemos precio, deberiamos hacer la función agregar_producto para ello)\n"
   ]
  },
  {
   "cell_type": "markdown",
   "id": "dd731bb0",
   "metadata": {},
   "source": [
    "# 5. eliminar_producto(nombre)"
   ]
  },
  {
   "cell_type": "code",
   "execution_count": 23,
   "id": "d58b45a4",
   "metadata": {},
   "outputs": [],
   "source": [
    "#Elimina un producto del inventario por nombre. Debe recibir el nombre del producto como parámetro.\n",
    "\n",
    "def eliminar_producto(nombre):\n",
    "    for producto in inventario:\n",
    "        if producto[\"nombre\"]==nombre:\n",
    "            inventario.remove(producto)\n",
    "            return f\"Producto eliminado\"\n",
    "    return f\"Producto no encontrado en inventario\""
   ]
  },
  {
   "cell_type": "code",
   "execution_count": 24,
   "id": "9670de4b",
   "metadata": {},
   "outputs": [
    {
     "data": {
      "text/plain": [
       "'Producto eliminado'"
      ]
     },
     "execution_count": 24,
     "metadata": {},
     "output_type": "execute_result"
    }
   ],
   "source": [
    "eliminar_producto(\"camisa\")"
   ]
  },
  {
   "cell_type": "code",
   "execution_count": 25,
   "id": "00510ef9",
   "metadata": {},
   "outputs": [
    {
     "data": {
      "text/plain": [
       "'Producto no encontrado en inventario'"
      ]
     },
     "execution_count": 25,
     "metadata": {},
     "output_type": "execute_result"
    }
   ],
   "source": [
    "eliminar_producto(\"blusa\")"
   ]
  },
  {
   "cell_type": "code",
   "execution_count": 26,
   "id": "aaf071a3",
   "metadata": {},
   "outputs": [
    {
     "name": "stdout",
     "output_type": "stream",
     "text": [
      "Nombre: pantalon, Precio: $30, Cantidad: 30\n",
      "Nombre: zapatos, Precio: $50, Cantidad: 15\n",
      "Nombre: chaqueta, Precio: $70, Cantidad: 20\n"
     ]
    }
   ],
   "source": [
    "ver_inventario(inventario)"
   ]
  },
  {
   "cell_type": "markdown",
   "id": "5fc830b0",
   "metadata": {},
   "source": [
    "# 6. calcular_valor_inventario()"
   ]
  },
  {
   "cell_type": "code",
   "execution_count": 42,
   "id": "29f3ac74",
   "metadata": {},
   "outputs": [],
   "source": [
    "\n",
    "def calcular_valor_inventario(inventario):\n",
    "    valor_inventario = 0\n",
    "    for producto in inventario:\n",
    "        valor_producto=producto[\"precio\"]*producto[\"cantidad\"]\n",
    "        valor_inventario = valor_inventario + valor_producto\n",
    "    print(f\"El valor del inventario es ${valor_inventario}\")\n",
    "        \n",
    "\n",
    "       "
   ]
  },
  {
   "cell_type": "code",
   "execution_count": 43,
   "id": "9426384a",
   "metadata": {},
   "outputs": [
    {
     "name": "stdout",
     "output_type": "stream",
     "text": [
      "El valor del inventario es $3050\n"
     ]
    }
   ],
   "source": [
    "calcular_valor_inventario(inventario)"
   ]
  },
  {
   "cell_type": "code",
   "execution_count": null,
   "id": "2b136550",
   "metadata": {},
   "outputs": [],
   "source": []
  }
 ],
 "metadata": {
  "kernelspec": {
   "display_name": "base",
   "language": "python",
   "name": "python3"
  },
  "language_info": {
   "codemirror_mode": {
    "name": "ipython",
    "version": 3
   },
   "file_extension": ".py",
   "mimetype": "text/x-python",
   "name": "python",
   "nbconvert_exporter": "python",
   "pygments_lexer": "ipython3",
   "version": "3.12.7"
  }
 },
 "nbformat": 4,
 "nbformat_minor": 5
}

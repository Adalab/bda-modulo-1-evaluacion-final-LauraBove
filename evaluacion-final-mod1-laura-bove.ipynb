{
 "cells": [
  {
   "cell_type": "markdown",
   "id": "9ff0f4a0",
   "metadata": {},
   "source": [
    "# Evaluación Módulo 1 Data Analytics"
   ]
  },
  {
   "cell_type": "code",
   "execution_count": 1,
   "id": "a5afe4f9",
   "metadata": {},
   "outputs": [],
   "source": [
    "inventario = []\n",
    "\n",
    "clientes = {}\n",
    "\n",
    "ventas_totales = 0,0"
   ]
  },
  {
   "cell_type": "markdown",
   "id": "c1766f84",
   "metadata": {},
   "source": [
    "## Agregar_Producto"
   ]
  },
  {
   "cell_type": "code",
   "execution_count": 2,
   "id": "dfbbe9b8",
   "metadata": {},
   "outputs": [],
   "source": [
    "#Crear función de agregar_producto (nombre, precio, cantidad)\n",
    "\n",
    "def agregar_producto(nombre, precio, cantidad):\n",
    "    for producto in inventario:\n",
    "        if producto[\"nombre\"] == nombre:\n",
    "            producto[\"cantidad\"] += cantidad\n",
    "            return f\"Stock de {nombre} actualizado\"\n",
    "\n",
    "    nuevo_producto = {\n",
    "        \"nombre\" : nombre, \n",
    "        \"precio\" : precio,\n",
    "        \"cantidad\" : cantidad,\n",
    "    }\n",
    "    inventario.append(nuevo_producto)\n",
    "    return f\"Producto {nombre} añadido\"\n",
    "\n"
   ]
  },
  {
   "cell_type": "code",
   "execution_count": 3,
   "id": "665376d0",
   "metadata": {},
   "outputs": [
    {
     "data": {
      "text/plain": [
       "'Producto camisa añadido'"
      ]
     },
     "execution_count": 3,
     "metadata": {},
     "output_type": "execute_result"
    }
   ],
   "source": [
    "#usamos la función para añadir un producto\n",
    "\n",
    "agregar_producto (\"camisa\", 20, 40)   #Creo un primer producto"
   ]
  },
  {
   "cell_type": "code",
   "execution_count": 4,
   "id": "38b11197",
   "metadata": {},
   "outputs": [
    {
     "data": {
      "text/plain": [
       "'Stock de camisa actualizado'"
      ]
     },
     "execution_count": 4,
     "metadata": {},
     "output_type": "execute_result"
    }
   ],
   "source": [
    "#añado otros productos\n",
    "\n",
    "agregar_producto (\"pantalon\", 30, 30)\n",
    "agregar_producto (\"zapatos\", 50, 40)\n",
    "agregar_producto (\"camisa\", 20, 50)"
   ]
  },
  {
   "cell_type": "code",
   "execution_count": 5,
   "id": "52ef0d18",
   "metadata": {},
   "outputs": [
    {
     "data": {
      "text/plain": [
       "'Stock de camisa actualizado'"
      ]
     },
     "execution_count": 5,
     "metadata": {},
     "output_type": "execute_result"
    }
   ],
   "source": [
    "agregar_producto (\"camisa\", 20, 40)  #añado de nuevo un producto que ya existe"
   ]
  },
  {
   "cell_type": "code",
   "execution_count": 6,
   "id": "b2322926",
   "metadata": {},
   "outputs": [
    {
     "data": {
      "text/plain": [
       "[{'nombre': 'camisa', 'precio': 20, 'cantidad': 130},\n",
       " {'nombre': 'pantalon', 'precio': 30, 'cantidad': 30},\n",
       " {'nombre': 'zapatos', 'precio': 50, 'cantidad': 40}]"
      ]
     },
     "execution_count": 6,
     "metadata": {},
     "output_type": "execute_result"
    }
   ],
   "source": [
    "inventario  #llamo a inventario para ver que lo que he hecho hasta ahora se ha procesado correctamente"
   ]
  },
  {
   "cell_type": "markdown",
   "id": "a0016748",
   "metadata": {},
   "source": [
    "## Ver inventario"
   ]
  }
 ],
 "metadata": {
  "kernelspec": {
   "display_name": "base",
   "language": "python",
   "name": "python3"
  },
  "language_info": {
   "codemirror_mode": {
    "name": "ipython",
    "version": 3
   },
   "file_extension": ".py",
   "mimetype": "text/x-python",
   "name": "python",
   "nbconvert_exporter": "python",
   "pygments_lexer": "ipython3",
   "version": "3.12.7"
  }
 },
 "nbformat": 4,
 "nbformat_minor": 5
}

{
 "cells": [
  {
   "cell_type": "markdown",
   "id": "9ff0f4a0",
   "metadata": {},
   "source": [
    "# Evaluación Módulo 1 Data Analytics"
   ]
  },
  {
   "cell_type": "markdown",
   "id": "0068bc0e",
   "metadata": {},
   "source": [
    "# 1. Estructuras"
   ]
  },
  {
   "cell_type": "code",
   "execution_count": 1,
   "id": "a5afe4f9",
   "metadata": {},
   "outputs": [],
   "source": [
    "inventario = []\n",
    "\n"
   ]
  },
  {
   "cell_type": "code",
   "execution_count": 2,
   "id": "4af7a40d",
   "metadata": {},
   "outputs": [],
   "source": [
    "clientes = {}"
   ]
  },
  {
   "cell_type": "code",
   "execution_count": 3,
   "id": "dc3225e8",
   "metadata": {},
   "outputs": [],
   "source": [
    "ventas_totales = 0.0"
   ]
  },
  {
   "cell_type": "markdown",
   "id": "8e7da77e",
   "metadata": {},
   "source": [
    "# 2. Funciones"
   ]
  },
  {
   "cell_type": "markdown",
   "id": "c1766f84",
   "metadata": {},
   "source": [
    "## Agregar_Producto"
   ]
  },
  {
   "cell_type": "code",
   "execution_count": 4,
   "id": "dfbbe9b8",
   "metadata": {},
   "outputs": [],
   "source": [
    "#Crear función de agregar_producto (nombre, precio, cantidad)\n",
    "\n",
    "def agregar_producto(nombre, precio, cantidad):\n",
    "    for producto in inventario:\n",
    "        if producto[\"nombre\"] == nombre:\n",
    "            producto[\"cantidad\"] += cantidad\n",
    "            return f\"Stock de {nombre} actualizado\"\n",
    "\n",
    "    nuevo_producto = {\n",
    "        \"nombre\" : nombre, \n",
    "        \"precio\" : precio,\n",
    "        \"cantidad\" : cantidad,\n",
    "    }\n",
    "    inventario.append(nuevo_producto)\n",
    "    return f\"Producto {nombre} añadido\"\n",
    "\n"
   ]
  },
  {
   "cell_type": "code",
   "execution_count": 5,
   "id": "665376d0",
   "metadata": {},
   "outputs": [
    {
     "data": {
      "text/plain": [
       "'Producto camisa añadido'"
      ]
     },
     "execution_count": 5,
     "metadata": {},
     "output_type": "execute_result"
    }
   ],
   "source": [
    "#usamos la función para añadir un producto\n",
    "\n",
    "agregar_producto (\"camisa\", 20, 40)   #Creo un primer producto"
   ]
  },
  {
   "cell_type": "code",
   "execution_count": 6,
   "id": "38b11197",
   "metadata": {},
   "outputs": [
    {
     "data": {
      "text/plain": [
       "'Producto pantalon añadido'"
      ]
     },
     "execution_count": 6,
     "metadata": {},
     "output_type": "execute_result"
    }
   ],
   "source": [
    "#añado otros productos\n",
    "\n",
    "agregar_producto (\"pantalon\", 30, 30)\n",
    "\n"
   ]
  },
  {
   "cell_type": "code",
   "execution_count": 7,
   "id": "da712646",
   "metadata": {},
   "outputs": [
    {
     "data": {
      "text/plain": [
       "'Producto zapatos añadido'"
      ]
     },
     "execution_count": 7,
     "metadata": {},
     "output_type": "execute_result"
    }
   ],
   "source": [
    "agregar_producto (\"zapatos\", 50, 40)"
   ]
  },
  {
   "cell_type": "code",
   "execution_count": 8,
   "id": "cae14323",
   "metadata": {},
   "outputs": [
    {
     "data": {
      "text/plain": [
       "'Producto chaqueta añadido'"
      ]
     },
     "execution_count": 8,
     "metadata": {},
     "output_type": "execute_result"
    }
   ],
   "source": [
    "agregar_producto (\"chaqueta\", 70, 15)"
   ]
  },
  {
   "cell_type": "code",
   "execution_count": 9,
   "id": "52ef0d18",
   "metadata": {},
   "outputs": [
    {
     "data": {
      "text/plain": [
       "'Stock de camisa actualizado'"
      ]
     },
     "execution_count": 9,
     "metadata": {},
     "output_type": "execute_result"
    }
   ],
   "source": [
    "#añado de nuevo un producto que ya existe para comprobar que funciona correctamente el codigo\n",
    "agregar_producto (\"camisa\", 20, 40)  "
   ]
  },
  {
   "cell_type": "code",
   "execution_count": 10,
   "id": "b2322926",
   "metadata": {},
   "outputs": [
    {
     "data": {
      "text/plain": [
       "[{'nombre': 'camisa', 'precio': 20, 'cantidad': 80},\n",
       " {'nombre': 'pantalon', 'precio': 30, 'cantidad': 30},\n",
       " {'nombre': 'zapatos', 'precio': 50, 'cantidad': 40},\n",
       " {'nombre': 'chaqueta', 'precio': 70, 'cantidad': 15}]"
      ]
     },
     "execution_count": 10,
     "metadata": {},
     "output_type": "execute_result"
    }
   ],
   "source": [
    "#llamo a inventario para ver que lo que he hecho hasta ahora se ha procesado correctamente (Reviso que la cantidad del producto repetido sea la suma de los dos)\n",
    "\n",
    "inventario"
   ]
  },
  {
   "cell_type": "markdown",
   "id": "a0016748",
   "metadata": {},
   "source": [
    "## Ver inventario"
   ]
  },
  {
   "cell_type": "code",
   "execution_count": null,
   "id": "2c5ec9ae",
   "metadata": {},
   "outputs": [
    {
     "name": "stdout",
     "output_type": "stream",
     "text": [
      "Nombre: camisa, Precio: $20, Cantidad: 80\n",
      "Nombre: pantalon, Precio: $30, Cantidad: 30\n",
      "Nombre: zapatos, Precio: $50, Cantidad: 40\n",
      "Nombre: chaqueta, Precio: $70, Cantidad: 15\n"
     ]
    }
   ],
   "source": [
    "# Crear función para mostrar el inventario de productos con sus detalles\n",
    "\n",
    "def ver_inventario(inventario):\n",
    "    for producto in inventario:\n",
    "        print(f\"Nombre: {producto['nombre']}, Precio: ${producto['precio']}, Cantidad: {producto['cantidad']}\")\n",
    "\n",
    "\n",
    "#la ejecutamos\n",
    "ver_inventario(inventario)\n",
    "\n"
   ]
  },
  {
   "cell_type": "markdown",
   "id": "4858c283",
   "metadata": {},
   "source": [
    "# 3. buscar_producto(nombre)"
   ]
  },
  {
   "cell_type": "code",
   "execution_count": 12,
   "id": "0eeaff1e",
   "metadata": {},
   "outputs": [],
   "source": [
    "# Busca un producto en el inventario por nombre y muestra sus detalles si se encuentra. Debe recibir el nombre del producto como parámetro.\n",
    "\n",
    "\n",
    "def buscar_producto(nombre):\n",
    "    for producto in inventario:\n",
    "        if producto [\"nombre\"] == nombre:\n",
    "            return f\"Nombre: {producto['nombre']}, Precio: ${producto['precio']}, Cantidad: {producto['cantidad']}\"\n",
    "    \n",
    "    return (\"Producto no encontrado\")  #añado esto para que cuando no encuentre el producto con el nombre que estoy buscando me retorne este mensaje\n",
    "\n"
   ]
  },
  {
   "cell_type": "code",
   "execution_count": 13,
   "id": "e14a3560",
   "metadata": {},
   "outputs": [
    {
     "data": {
      "text/plain": [
       "'Nombre: camisa, Precio: $20, Cantidad: 80'"
      ]
     },
     "execution_count": 13,
     "metadata": {},
     "output_type": "execute_result"
    }
   ],
   "source": [
    "#Ejecuto varias veces la función para comprobar que devuelve lo que espero\n",
    "\n",
    "buscar_producto(\"camisa\")  "
   ]
  },
  {
   "cell_type": "code",
   "execution_count": 14,
   "id": "d2e0c1d0",
   "metadata": {},
   "outputs": [
    {
     "data": {
      "text/plain": [
       "'Nombre: zapatos, Precio: $50, Cantidad: 40'"
      ]
     },
     "execution_count": 14,
     "metadata": {},
     "output_type": "execute_result"
    }
   ],
   "source": [
    "buscar_producto(\"zapatos\")"
   ]
  },
  {
   "cell_type": "code",
   "execution_count": 15,
   "id": "32eb1e46",
   "metadata": {},
   "outputs": [
    {
     "data": {
      "text/plain": [
       "'Producto no encontrado'"
      ]
     },
     "execution_count": 15,
     "metadata": {},
     "output_type": "execute_result"
    }
   ],
   "source": [
    "buscar_producto(\"zueco\") #Ejemplo de producto que no tenemos"
   ]
  },
  {
   "cell_type": "markdown",
   "id": "8e11b0c9",
   "metadata": {},
   "source": [
    "# 4. actualizar_stock(nombre, cantidad)"
   ]
  },
  {
   "cell_type": "code",
   "execution_count": 16,
   "id": "818e4344",
   "metadata": {},
   "outputs": [
    {
     "name": "stdout",
     "output_type": "stream",
     "text": [
      "Nombre: camisa, Precio: $20, Cantidad: 80\n",
      "Nombre: pantalon, Precio: $30, Cantidad: 30\n",
      "Nombre: zapatos, Precio: $50, Cantidad: 40\n",
      "Nombre: chaqueta, Precio: $70, Cantidad: 15\n"
     ]
    }
   ],
   "source": [
    "#Revisamos el inventario actual antes del ejercicio para verificar que se produciran los cambios esperados\n",
    "ver_inventario(inventario)"
   ]
  },
  {
   "cell_type": "code",
   "execution_count": 17,
   "id": "349c9343",
   "metadata": {},
   "outputs": [],
   "source": [
    "#Actualiza el stock de un producto en el inventario. Debe recibir el nombre del producto y la cantidad a agregar o quitar como parámetros.\n",
    "\n",
    "def actualizar_stock(nombre, cantidad):\n",
    "    for producto in inventario:\n",
    "        if producto [\"nombre\"] == nombre:\n",
    "            if producto[\"cantidad\"] + cantidad < 0:\n",
    "                return f\"Error. Stock de {producto['nombre']} insuficiente.\"\n",
    "            \n",
    "            producto[\"cantidad\"] += cantidad \n",
    "            return f\"Cantidad de {producto['nombre']} actualizada. Nuevo stock: {producto['cantidad']}\"\n",
    "               \n",
    "                    \n",
    "    return \"Producto no encontrado en inventario\""
   ]
  },
  {
   "cell_type": "code",
   "execution_count": 18,
   "id": "94347d30",
   "metadata": {},
   "outputs": [
    {
     "data": {
      "text/plain": [
       "'Cantidad de camisa actualizada. Nuevo stock: 100'"
      ]
     },
     "execution_count": 18,
     "metadata": {},
     "output_type": "execute_result"
    }
   ],
   "source": [
    "#ejecutamos la función\n",
    "\n",
    "actualizar_stock(\"camisa\", 20)\n"
   ]
  },
  {
   "cell_type": "code",
   "execution_count": 19,
   "id": "95493996",
   "metadata": {},
   "outputs": [
    {
     "data": {
      "text/plain": [
       "'Cantidad de chaqueta actualizada. Nuevo stock: 20'"
      ]
     },
     "execution_count": 19,
     "metadata": {},
     "output_type": "execute_result"
    }
   ],
   "source": [
    "actualizar_stock(\"chaqueta\", 5)"
   ]
  },
  {
   "cell_type": "code",
   "execution_count": 20,
   "id": "d1bfe1db",
   "metadata": {},
   "outputs": [
    {
     "data": {
      "text/plain": [
       "'Producto no encontrado en inventario'"
      ]
     },
     "execution_count": 20,
     "metadata": {},
     "output_type": "execute_result"
    }
   ],
   "source": [
    "actualizar_stock(\"blusa\", 2) #ejemplo de producto que NO esta en stock"
   ]
  },
  {
   "cell_type": "code",
   "execution_count": 21,
   "id": "472f58ea",
   "metadata": {},
   "outputs": [
    {
     "data": {
      "text/plain": [
       "'Cantidad de zapatos actualizada. Nuevo stock: 15'"
      ]
     },
     "execution_count": 21,
     "metadata": {},
     "output_type": "execute_result"
    }
   ],
   "source": [
    "actualizar_stock(\"zapatos\", -25) #ejemplo de producto al que retiramos stock"
   ]
  },
  {
   "cell_type": "code",
   "execution_count": 22,
   "id": "958aa788",
   "metadata": {},
   "outputs": [
    {
     "data": {
      "text/plain": [
       "'Error. Stock de pantalon insuficiente.'"
      ]
     },
     "execution_count": 22,
     "metadata": {},
     "output_type": "execute_result"
    }
   ],
   "source": [
    "actualizar_stock(\"pantalon\", -31)  #retiramos más stock del que hay disponible para que nos devuelva error"
   ]
  },
  {
   "cell_type": "code",
   "execution_count": 23,
   "id": "debadbeb",
   "metadata": {},
   "outputs": [
    {
     "name": "stdout",
     "output_type": "stream",
     "text": [
      "Nombre: camisa, Precio: $20, Cantidad: 100\n",
      "Nombre: pantalon, Precio: $30, Cantidad: 30\n",
      "Nombre: zapatos, Precio: $50, Cantidad: 15\n",
      "Nombre: chaqueta, Precio: $70, Cantidad: 20\n"
     ]
    }
   ],
   "source": [
    "#verificamos que haya modificado el inventario\n",
    "\n",
    "ver_inventario(inventario)"
   ]
  },
  {
   "cell_type": "code",
   "execution_count": 24,
   "id": "fb2581fb",
   "metadata": {},
   "outputs": [],
   "source": [
    "#NOTA.-> Los productos que no estan en stock no se añaden al inventario (no tenemos precio, deberiamos hacer la función agregar_producto para ello)\n"
   ]
  },
  {
   "cell_type": "markdown",
   "id": "dd731bb0",
   "metadata": {},
   "source": [
    "# 5. eliminar_producto(nombre)"
   ]
  },
  {
   "cell_type": "code",
   "execution_count": 25,
   "id": "d58b45a4",
   "metadata": {},
   "outputs": [],
   "source": [
    "#Elimina un producto del inventario por nombre. Debe recibir el nombre del producto como parámetro.\n",
    "\n",
    "def eliminar_producto(nombre):\n",
    "    for producto in inventario:\n",
    "        if producto[\"nombre\"]==nombre:\n",
    "            inventario.remove(producto)\n",
    "            return f\"Producto eliminado\"\n",
    "    return f\"Producto no encontrado en inventario\""
   ]
  },
  {
   "cell_type": "code",
   "execution_count": 26,
   "id": "9670de4b",
   "metadata": {},
   "outputs": [
    {
     "data": {
      "text/plain": [
       "'Producto eliminado'"
      ]
     },
     "execution_count": 26,
     "metadata": {},
     "output_type": "execute_result"
    }
   ],
   "source": [
    "eliminar_producto(\"camisa\")"
   ]
  },
  {
   "cell_type": "code",
   "execution_count": 27,
   "id": "00510ef9",
   "metadata": {},
   "outputs": [
    {
     "data": {
      "text/plain": [
       "'Producto no encontrado en inventario'"
      ]
     },
     "execution_count": 27,
     "metadata": {},
     "output_type": "execute_result"
    }
   ],
   "source": [
    "eliminar_producto(\"blusa\")"
   ]
  },
  {
   "cell_type": "code",
   "execution_count": 28,
   "id": "aaf071a3",
   "metadata": {},
   "outputs": [
    {
     "name": "stdout",
     "output_type": "stream",
     "text": [
      "Nombre: pantalon, Precio: $30, Cantidad: 30\n",
      "Nombre: zapatos, Precio: $50, Cantidad: 15\n",
      "Nombre: chaqueta, Precio: $70, Cantidad: 20\n"
     ]
    }
   ],
   "source": [
    "ver_inventario(inventario)"
   ]
  },
  {
   "cell_type": "markdown",
   "id": "5fc830b0",
   "metadata": {},
   "source": [
    "# 6. calcular_valor_inventario()"
   ]
  },
  {
   "cell_type": "code",
   "execution_count": 29,
   "id": "29f3ac74",
   "metadata": {},
   "outputs": [],
   "source": [
    "\n",
    "def calcular_valor_inventario(inventario):\n",
    "    valor_inventario = 0\n",
    "    for producto in inventario:\n",
    "        valor_producto=producto[\"precio\"]*producto[\"cantidad\"]\n",
    "        valor_inventario = valor_inventario + valor_producto\n",
    "    print(f\"El valor del inventario es ${valor_inventario}\")\n",
    "        \n",
    "\n",
    "       "
   ]
  },
  {
   "cell_type": "code",
   "execution_count": 30,
   "id": "9426384a",
   "metadata": {},
   "outputs": [
    {
     "name": "stdout",
     "output_type": "stream",
     "text": [
      "El valor del inventario es $3050\n"
     ]
    }
   ],
   "source": [
    "calcular_valor_inventario(inventario)"
   ]
  },
  {
   "cell_type": "markdown",
   "id": "7cc81cf0",
   "metadata": {},
   "source": [
    "# 7. realizar_compra()"
   ]
  },
  {
   "cell_type": "markdown",
   "id": "9b7e7cea",
   "metadata": {},
   "source": [
    "realizar_compra(): Permite a un cliente realizar una compra seleccionando productos del\n",
    "inventario. Debe interactuar con el cliente para seleccionar productos y calcular el costo total de la\n",
    "compra.\n",
    "Utiliza un bucle while para permitir al cliente realizar múltiples compras.\n",
    "Muestra el inventario y solicita al cliente ingresar el nombre del producto que desea comprar.\n",
    "Registra los productos seleccionados en un carrito y actualiza el inventario.\n",
    "Calcula el costo total de la compra."
   ]
  },
  {
   "cell_type": "code",
   "execution_count": 31,
   "id": "6adac586",
   "metadata": {},
   "outputs": [],
   "source": [
    "def realizar_compra():\n",
    "        ver_inventario(inventario)\n",
    "        valor_compra_cliente=0\n",
    "        carrito=[]\n",
    "        contador = 0\n",
    "\n",
    "        while True:\n",
    "                \n",
    "                if contador < 1:\n",
    "                    respuesta = input(\"¿Quiere realizar alguna compra?(s/n)\") #solo para la primera vez\n",
    "                \n",
    "                else: \n",
    "                    respuesta = input(\"Quiere seguir comprando?(s/n)\") #para las siguientes\n",
    "                \n",
    "                if respuesta != \"s\":\n",
    "                        print(f\"Compra finalizada. Importe total {valor_compra_cliente}. Carrito: {carrito}\")\n",
    "                        break \n",
    "                else: \n",
    "                        contador += 1\n",
    "                        compra_cliente = input(\"Que producto quiere comprar? (Introduzca nombre producto)\")\n",
    "                        encontrado = False  # He tenido que añadir esto para poder dar un mensaje si el producto no se encuentra\n",
    "                \n",
    "                for producto in inventario:\n",
    "                        if compra_cliente == producto[\"nombre\"]:\n",
    "                                encontrado = True #Cambiamos a True si encontramos el producto\n",
    "                                \n",
    "                                if producto[\"cantidad\"] > 0: #nos aseguramos de que haya suficiente cantidad\n",
    "                                        \n",
    "                                        producto[\"cantidad\"] -= 1\n",
    "                                        valor_producto = producto[\"precio\"]\n",
    "                                        valor_compra_cliente += valor_producto\n",
    "                                        carrito.append(producto[\"nombre\"])\n",
    "                                        print (f\"El producto {producto['nombre']} ha sido añadido al carrito. Valor compra {valor_compra_cliente}. Carrito: {carrito}\")\n",
    "                                        continue\n",
    "                                else:\n",
    "                                        print(\"No hay stock del producto\")\n",
    "                                break\n",
    "\n",
    "                if encontrado == False: #para mostrar el mensaje de que no lo hemos encontrado\n",
    "                        print (\"Producto no encontrado\")\n",
    "                        \n",
    "                       \n",
    "\n",
    "                            \n",
    "                        \n",
    "                ver_inventario(inventario)                \n",
    "\n",
    "\n",
    "    "
   ]
  },
  {
   "cell_type": "code",
   "execution_count": 32,
   "id": "b08ef7b3",
   "metadata": {},
   "outputs": [
    {
     "name": "stdout",
     "output_type": "stream",
     "text": [
      "Nombre: pantalon, Precio: $30, Cantidad: 30\n",
      "Nombre: zapatos, Precio: $50, Cantidad: 15\n",
      "Nombre: chaqueta, Precio: $70, Cantidad: 20\n",
      "Compra finalizada. Importe total 0. Carrito: []\n"
     ]
    }
   ],
   "source": [
    "realizar_compra()"
   ]
  },
  {
   "cell_type": "code",
   "execution_count": 33,
   "id": "e9f8444b",
   "metadata": {},
   "outputs": [
    {
     "name": "stdout",
     "output_type": "stream",
     "text": [
      "Nombre: pantalon, Precio: $30, Cantidad: 30\n",
      "Nombre: zapatos, Precio: $50, Cantidad: 15\n",
      "Nombre: chaqueta, Precio: $70, Cantidad: 20\n"
     ]
    }
   ],
   "source": [
    "ver_inventario(inventario)"
   ]
  },
  {
   "cell_type": "markdown",
   "id": "3b06f343",
   "metadata": {},
   "source": [
    "# BONUS"
   ]
  },
  {
   "cell_type": "markdown",
   "id": "229f5d7c",
   "metadata": {},
   "source": [
    "# 1. procesar_pago()"
   ]
  },
  {
   "cell_type": "code",
   "execution_count": 34,
   "id": "925a7799",
   "metadata": {},
   "outputs": [],
   "source": [
    "def procesar_pago():\n",
    "\n",
    "    try:\n",
    "        importe_compra = float(input(\"Introduce importe de la compra\"))\n",
    "        importe_pago = float(input(\"Introducte el importe pagado\"))\n",
    "    \n",
    "        cambio = importe_pago - importe_compra\n",
    "        if cambio >= 0:\n",
    "            print(f\"Pago efectuado correctamente. Cambio $ {cambio}\")\n",
    "        else:\n",
    "            print (f\"Pago insuficiente\")\n",
    "\n",
    "    except:\n",
    "        print(\"Formato incorrecto. Introduzca valores numericos\")\n"
   ]
  },
  {
   "cell_type": "code",
   "execution_count": 35,
   "id": "ddacfb44",
   "metadata": {},
   "outputs": [
    {
     "name": "stdout",
     "output_type": "stream",
     "text": [
      "Pago efectuado correctamente. Cambio $ 0.0\n"
     ]
    }
   ],
   "source": [
    "procesar_pago()"
   ]
  },
  {
   "cell_type": "markdown",
   "id": "c143965e",
   "metadata": {},
   "source": [
    "# 2. agregar_cliente(nombre, email):"
   ]
  },
  {
   "cell_type": "markdown",
   "id": "da8fb80a",
   "metadata": {},
   "source": [
    "{ 'Ana García': {'email': 'ana.garcia@email.com', 'compras': []},\n",
    "'Luis Fernández': {'email': 'luis.fernandez@email.com', 'compras':\n",
    "[]},}"
   ]
  },
  {
   "cell_type": "code",
   "execution_count": 36,
   "id": "9551c799",
   "metadata": {},
   "outputs": [],
   "source": [
    "def agregar_cliente(nombre,email):\n",
    "    clientes[nombre] = {\n",
    "        'email' : email, \n",
    "        'compras' : []\n",
    "    }\n",
    "\n",
    "    return f\" Cliente '{nombre}' agregado al sistema\"\n",
    "\n",
    "\n"
   ]
  },
  {
   "cell_type": "code",
   "execution_count": 37,
   "id": "2c6d3884",
   "metadata": {},
   "outputs": [
    {
     "data": {
      "text/plain": [
       "\" Cliente 'Laura' agregado al sistema\""
      ]
     },
     "execution_count": 37,
     "metadata": {},
     "output_type": "execute_result"
    }
   ],
   "source": [
    "agregar_cliente(\"Laura\", \"laura@gmail.com\")"
   ]
  },
  {
   "cell_type": "code",
   "execution_count": 38,
   "id": "7f6fcd4e",
   "metadata": {},
   "outputs": [
    {
     "data": {
      "text/plain": [
       "\" Cliente 'Carlos' agregado al sistema\""
      ]
     },
     "execution_count": 38,
     "metadata": {},
     "output_type": "execute_result"
    }
   ],
   "source": [
    "agregar_cliente(\"Carlos\", \"Carlos@gmail.com\")"
   ]
  },
  {
   "cell_type": "markdown",
   "id": "0185aa35",
   "metadata": {},
   "source": [
    "# 3. Ver clientes ()"
   ]
  },
  {
   "cell_type": "code",
   "execution_count": 39,
   "id": "ea0f46af",
   "metadata": {},
   "outputs": [],
   "source": [
    "\n",
    "def ver_clientes():\n",
    "    for nombre,email in clientes.items():\n",
    "        print(f\"Nombre: {nombre}, Email: {email['email']}\")\n",
    "\n"
   ]
  },
  {
   "cell_type": "code",
   "execution_count": 40,
   "id": "4c61a10f",
   "metadata": {},
   "outputs": [
    {
     "name": "stdout",
     "output_type": "stream",
     "text": [
      "Nombre: Laura, Email: laura@gmail.com\n",
      "Nombre: Carlos, Email: Carlos@gmail.com\n"
     ]
    }
   ],
   "source": [
    "ver_clientes()"
   ]
  },
  {
   "cell_type": "markdown",
   "id": "57de8ce8",
   "metadata": {},
   "source": [
    "# 4. Registrar_compra(nombre_cliente,carrito)"
   ]
  },
  {
   "cell_type": "code",
   "execution_count": null,
   "id": "2cb81d56",
   "metadata": {},
   "outputs": [],
   "source": []
  },
  {
   "cell_type": "markdown",
   "id": "78e0c42f",
   "metadata": {},
   "source": [
    "# 5. ver_compras_cliente(nombre_cliente)"
   ]
  },
  {
   "cell_type": "code",
   "execution_count": null,
   "id": "a14460d5",
   "metadata": {},
   "outputs": [],
   "source": []
  },
  {
   "cell_type": "markdown",
   "id": "fed0582b",
   "metadata": {},
   "source": [
    "# 6. Calcular_ventas_totales()"
   ]
  }
 ],
 "metadata": {
  "kernelspec": {
   "display_name": "base",
   "language": "python",
   "name": "python3"
  },
  "language_info": {
   "codemirror_mode": {
    "name": "ipython",
    "version": 3
   },
   "file_extension": ".py",
   "mimetype": "text/x-python",
   "name": "python",
   "nbconvert_exporter": "python",
   "pygments_lexer": "ipython3",
   "version": "3.12.7"
  }
 },
 "nbformat": 4,
 "nbformat_minor": 5
}

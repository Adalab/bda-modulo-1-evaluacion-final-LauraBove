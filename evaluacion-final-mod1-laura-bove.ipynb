{
 "cells": [
  {
   "cell_type": "markdown",
   "id": "9ff0f4a0",
   "metadata": {},
   "source": [
    "# Evaluación Módulo 1 Data Analytics"
   ]
  },
  {
   "cell_type": "markdown",
   "id": "0068bc0e",
   "metadata": {},
   "source": [
    "# 1. Estructuras"
   ]
  },
  {
   "cell_type": "code",
   "execution_count": 1,
   "id": "a5afe4f9",
   "metadata": {},
   "outputs": [],
   "source": [
    "inventario = []\n",
    "\n",
    "clientes = {}\n",
    "\n",
    "ventas_totales = 0,0"
   ]
  },
  {
   "cell_type": "markdown",
   "id": "8e7da77e",
   "metadata": {},
   "source": [
    "# 2. Funciones"
   ]
  },
  {
   "cell_type": "markdown",
   "id": "c1766f84",
   "metadata": {},
   "source": [
    "## Agregar_Producto"
   ]
  },
  {
   "cell_type": "code",
   "execution_count": 2,
   "id": "dfbbe9b8",
   "metadata": {},
   "outputs": [],
   "source": [
    "#Crear función de agregar_producto (nombre, precio, cantidad)\n",
    "\n",
    "def agregar_producto(nombre, precio, cantidad):\n",
    "    for producto in inventario:\n",
    "        if producto[\"nombre\"] == nombre:\n",
    "            producto[\"cantidad\"] += cantidad\n",
    "            return f\"Stock de {nombre} actualizado\"\n",
    "\n",
    "    nuevo_producto = {\n",
    "        \"nombre\" : nombre, \n",
    "        \"precio\" : precio,\n",
    "        \"cantidad\" : cantidad,\n",
    "    }\n",
    "    inventario.append(nuevo_producto)\n",
    "    return f\"Producto {nombre} añadido\"\n",
    "\n"
   ]
  },
  {
   "cell_type": "code",
   "execution_count": 3,
   "id": "665376d0",
   "metadata": {},
   "outputs": [
    {
     "data": {
      "text/plain": [
       "'Producto camisa añadido'"
      ]
     },
     "execution_count": 3,
     "metadata": {},
     "output_type": "execute_result"
    }
   ],
   "source": [
    "#usamos la función para añadir un producto\n",
    "\n",
    "agregar_producto (\"camisa\", 20, 40)   #Creo un primer producto"
   ]
  },
  {
   "cell_type": "code",
   "execution_count": 4,
   "id": "38b11197",
   "metadata": {},
   "outputs": [
    {
     "data": {
      "text/plain": [
       "'Producto pantalon añadido'"
      ]
     },
     "execution_count": 4,
     "metadata": {},
     "output_type": "execute_result"
    }
   ],
   "source": [
    "#añado otros productos\n",
    "\n",
    "agregar_producto (\"pantalon\", 30, 30)\n",
    "\n"
   ]
  },
  {
   "cell_type": "code",
   "execution_count": 5,
   "id": "da712646",
   "metadata": {},
   "outputs": [
    {
     "data": {
      "text/plain": [
       "'Producto zapatos añadido'"
      ]
     },
     "execution_count": 5,
     "metadata": {},
     "output_type": "execute_result"
    }
   ],
   "source": [
    "agregar_producto (\"zapatos\", 50, 40)"
   ]
  },
  {
   "cell_type": "code",
   "execution_count": 6,
   "id": "cae14323",
   "metadata": {},
   "outputs": [
    {
     "data": {
      "text/plain": [
       "'Producto chaqueta añadido'"
      ]
     },
     "execution_count": 6,
     "metadata": {},
     "output_type": "execute_result"
    }
   ],
   "source": [
    "agregar_producto (\"chaqueta\", 70, 15)"
   ]
  },
  {
   "cell_type": "code",
   "execution_count": 7,
   "id": "52ef0d18",
   "metadata": {},
   "outputs": [
    {
     "data": {
      "text/plain": [
       "'Stock de camisa actualizado'"
      ]
     },
     "execution_count": 7,
     "metadata": {},
     "output_type": "execute_result"
    }
   ],
   "source": [
    "#añado de nuevo un producto que ya existe para comprobar que funciona correctamente el codigo\n",
    "agregar_producto (\"camisa\", 20, 40)  "
   ]
  },
  {
   "cell_type": "code",
   "execution_count": 8,
   "id": "b2322926",
   "metadata": {},
   "outputs": [
    {
     "data": {
      "text/plain": [
       "[{'nombre': 'camisa', 'precio': 20, 'cantidad': 80},\n",
       " {'nombre': 'pantalon', 'precio': 30, 'cantidad': 30},\n",
       " {'nombre': 'zapatos', 'precio': 50, 'cantidad': 40},\n",
       " {'nombre': 'chaqueta', 'precio': 70, 'cantidad': 15}]"
      ]
     },
     "execution_count": 8,
     "metadata": {},
     "output_type": "execute_result"
    }
   ],
   "source": [
    "#llamo a inventario para ver que lo que he hecho hasta ahora se ha procesado correctamente (Reviso que la cantidad del producto repetido sea la suma de los dos)\n",
    "\n",
    "inventario"
   ]
  },
  {
   "cell_type": "markdown",
   "id": "a0016748",
   "metadata": {},
   "source": [
    "## Ver inventario"
   ]
  },
  {
   "cell_type": "code",
   "execution_count": 9,
   "id": "2c5ec9ae",
   "metadata": {},
   "outputs": [
    {
     "name": "stdout",
     "output_type": "stream",
     "text": [
      "Nombre: camisa, Precio: $20, Cantidad: 80\n",
      "Nombre: pantalon, Precio: $30, Cantidad: 30\n",
      "Nombre: zapatos, Precio: $50, Cantidad: 40\n",
      "Nombre: chaqueta, Precio: $70, Cantidad: 15\n"
     ]
    }
   ],
   "source": [
    "# Crear función para mostrar el inventario de productos con sus detalles\n",
    "\n",
    "def ver_inventario(inventario):\n",
    "    for productos in inventario:\n",
    "        print(f\"Nombre: {productos['nombre']}, Precio: ${productos['precio']}, Cantidad: {productos['cantidad']}\")\n",
    "\n",
    "\n",
    "\n",
    "ver_inventario(inventario)\n",
    "\n"
   ]
  },
  {
   "cell_type": "markdown",
   "id": "4858c283",
   "metadata": {},
   "source": [
    "# 3. buscar_producto(nombre)"
   ]
  },
  {
   "cell_type": "code",
   "execution_count": 10,
   "id": "0eeaff1e",
   "metadata": {},
   "outputs": [],
   "source": [
    "# Busca un producto en el inventario por nombre y muestra sus detalles si se encuentra. Debe recibir el nombre del producto como parámetro.\n",
    "\n",
    "\n",
    "def buscar_producto(nombre):\n",
    "    for productos in inventario:\n",
    "        if productos [\"nombre\"] == nombre:\n",
    "            return f\"Nombre: {productos['nombre']}, Precio: ${productos['precio']}, Cantidad: {productos['cantidad']}\"\n",
    "    \n",
    "    return (\"Producto no encontrado\")\n",
    "\n"
   ]
  },
  {
   "cell_type": "code",
   "execution_count": null,
   "id": "e14a3560",
   "metadata": {},
   "outputs": [
    {
     "data": {
      "text/plain": [
       "'Nombre: camisa, Precio: $20, Cantidad: 80'"
      ]
     },
     "execution_count": 11,
     "metadata": {},
     "output_type": "execute_result"
    }
   ],
   "source": [
    "#Ejecuto varias veces la función para comprobar que devuelve lo que espero\n",
    "\n",
    "buscar_producto(\"camisa\")  "
   ]
  },
  {
   "cell_type": "code",
   "execution_count": 12,
   "id": "d2e0c1d0",
   "metadata": {},
   "outputs": [
    {
     "data": {
      "text/plain": [
       "'Nombre: zapatos, Precio: $50, Cantidad: 40'"
      ]
     },
     "execution_count": 12,
     "metadata": {},
     "output_type": "execute_result"
    }
   ],
   "source": [
    "buscar_producto(\"zapatos\")"
   ]
  },
  {
   "cell_type": "code",
   "execution_count": 13,
   "id": "32eb1e46",
   "metadata": {},
   "outputs": [
    {
     "data": {
      "text/plain": [
       "'Producto no encontrado'"
      ]
     },
     "execution_count": 13,
     "metadata": {},
     "output_type": "execute_result"
    }
   ],
   "source": [
    "buscar_producto(\"zueco\")"
   ]
  }
 ],
 "metadata": {
  "kernelspec": {
   "display_name": "base",
   "language": "python",
   "name": "python3"
  },
  "language_info": {
   "codemirror_mode": {
    "name": "ipython",
    "version": 3
   },
   "file_extension": ".py",
   "mimetype": "text/x-python",
   "name": "python",
   "nbconvert_exporter": "python",
   "pygments_lexer": "ipython3",
   "version": "3.12.7"
  }
 },
 "nbformat": 4,
 "nbformat_minor": 5
}
